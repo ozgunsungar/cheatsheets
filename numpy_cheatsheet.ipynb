{
  "nbformat": 4,
  "nbformat_minor": 0,
  "metadata": {
    "colab": {
      "name": "numpy_cheatsheet.ipynb",
      "provenance": [],
      "collapsed_sections": []
    },
    "kernelspec": {
      "name": "python3",
      "display_name": "Python 3"
    },
    "language_info": {
      "name": "python"
    }
  },
  "cells": [
    {
      "cell_type": "code",
      "source": [
        "import numpy as np"
      ],
      "metadata": {
        "id": "88dWvs0LQTys"
      },
      "execution_count": 2,
      "outputs": []
    },
    {
      "cell_type": "code",
      "execution_count": 3,
      "metadata": {
        "colab": {
          "base_uri": "https://localhost:8080/"
        },
        "id": "9z2hW9GaQGxs",
        "outputId": "2bd23faf-0815-4ebf-c027-751e9596d241"
      },
      "outputs": [
        {
          "output_type": "execute_result",
          "data": {
            "text/plain": [
              "array([ 0,  3,  6,  9, 12, 15, 18, 21, 24, 27, 30, 33, 36, 39, 42, 45, 48,\n",
              "       51, 54, 57, 60, 63, 66, 69, 72, 75, 78, 81, 84, 87, 90, 93, 96, 99])"
            ]
          },
          "metadata": {},
          "execution_count": 3
        }
      ],
      "source": [
        "np.arange(0,100,3) "
      ]
    },
    {
      "cell_type": "code",
      "source": [
        "np.linspace(0,100,5) # 0 ile 100 arası değerleri 5 parçaya böler."
      ],
      "metadata": {
        "colab": {
          "base_uri": "https://localhost:8080/"
        },
        "id": "mPbp9TvkQaCf",
        "outputId": "f8aa529c-e797-4b86-b0b9-a6693976d94a"
      },
      "execution_count": 4,
      "outputs": [
        {
          "output_type": "execute_result",
          "data": {
            "text/plain": [
              "array([  0.,  25.,  50.,  75., 100.])"
            ]
          },
          "metadata": {},
          "execution_count": 4
        }
      ]
    },
    {
      "cell_type": "code",
      "source": [
        "np.random.randint(1,10,5) # 1(dahil) ile 10(hariç) arasında 5 değer oluşturarak 5 değer saklayan array oluşturur."
      ],
      "metadata": {
        "colab": {
          "base_uri": "https://localhost:8080/"
        },
        "id": "8ZnHT88SQfb_",
        "outputId": "f9894e89-2741-4ae3-c4c5-3bda0a28c123"
      },
      "execution_count": 6,
      "outputs": [
        {
          "output_type": "execute_result",
          "data": {
            "text/plain": [
              "array([7, 9, 2, 2, 4])"
            ]
          },
          "metadata": {},
          "execution_count": 6
        }
      ]
    },
    {
      "cell_type": "code",
      "source": [
        "np.random.rand(5) # 0 ile 1 arasında 5 float değerler oluşturur."
      ],
      "metadata": {
        "colab": {
          "base_uri": "https://localhost:8080/"
        },
        "id": "CX0C917GQkst",
        "outputId": "19cc1ee4-bd56-43fb-e30e-3414bbccb848"
      },
      "execution_count": 7,
      "outputs": [
        {
          "output_type": "execute_result",
          "data": {
            "text/plain": [
              "array([0.78596475, 0.12027395, 0.2684878 , 0.15336838, 0.76276028])"
            ]
          },
          "metadata": {},
          "execution_count": 7
        }
      ]
    },
    {
      "cell_type": "code",
      "source": [
        "np.random.randn(10) # 0 etrafında - ve + değerlerle Gaussian Distribution'a göre değerler oluşturur."
      ],
      "metadata": {
        "colab": {
          "base_uri": "https://localhost:8080/"
        },
        "id": "vHlkufMaQnzu",
        "outputId": "9c446781-121d-445e-a450-6738c9f0d5ac"
      },
      "execution_count": 8,
      "outputs": [
        {
          "output_type": "execute_result",
          "data": {
            "text/plain": [
              "array([ 0.17665061, -1.20009957,  0.28817694, -3.51433602,  0.1191627 ,\n",
              "       -1.79171413, -0.54921118, -0.09909486,  0.44843732,  0.40251028])"
            ]
          },
          "metadata": {},
          "execution_count": 8
        }
      ]
    },
    {
      "cell_type": "code",
      "source": [
        "arr.reshape(5,5) # 5 x 5 =  25 tek boyutlu matrisi 2 boyuta çevirir.\n",
        "arr.max()\n",
        "arr.min()\n",
        "arr.sum() # Tüm değerlerin toplamı\n",
        "arr.mean() # Ortalama Bulur \n",
        "arr.argmin() # En küçük eleman 6.indekste\n",
        "arr.argmax() # En büyük eleman 7.indekste"
      ],
      "metadata": {
        "id": "KRqJqAr4QqXp"
      },
      "execution_count": null,
      "outputs": []
    },
    {
      "cell_type": "code",
      "source": [
        "#Determinant hesaplama\n",
        "detArray =  np.random.randint(1,100,25)\n",
        "# array([ 5, 54, 55, 62, 83, 73, 52, 62,  8, 95, 64, 82, 27, 79, 58, 23,  9,\n",
        "#        34, 25, 30, 40, 58, 97, 75, 36])\n",
        "detArray = detArray.reshape(5,5)\n",
        "# array([[ 5, 54, 55, 62, 83],\n",
        "#        [73, 52, 62,  8, 95],\n",
        "#        [64, 82, 27, 79, 58],\n",
        "#        [23,  9, 34, 25, 30],\n",
        "#        [40, 58, 97, 75, 36]])\n",
        "np.linalg.det(detArray)\n",
        "# -802623845.9999968\n",
        "round(np.linalg.det(detArray))\n",
        "# -802623846.0\n",
        "detArray2 = np.array([[1,2],[3,4]])\n",
        "round(np.linalg.det(detArray2))\n",
        "# -2.0"
      ],
      "metadata": {
        "id": "jLyL7tr9RCJP"
      },
      "execution_count": null,
      "outputs": []
    },
    {
      "cell_type": "code",
      "source": [
        "#OOP yapısı DİKKAT\n",
        "arr2 = arr\n",
        "arr2[:3] =  25 #yaparsak arr de değişmiş olacak. Çünkü ikisi de aynı yeri gösteriyor.Dolayısıyla arr.copy() yapmalıyız."
      ],
      "metadata": {
        "id": "feFYfW2MRibS"
      },
      "execution_count": null,
      "outputs": []
    }
  ]
}